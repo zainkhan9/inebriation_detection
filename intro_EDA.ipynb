{
 "cells": [
  {
   "cell_type": "code",
   "execution_count": 2,
   "metadata": {},
   "outputs": [],
   "source": [
    "import pandas as pd\n",
    "import numpy as np\n",
    "import os\n",
    "import matplotlib.pyplot as plt\n",
    "import sqlite3"
   ]
  },
  {
   "cell_type": "markdown",
   "metadata": {},
   "source": [
    "#### Creating db connection"
   ]
  },
  {
   "cell_type": "code",
   "execution_count": 3,
   "metadata": {},
   "outputs": [],
   "source": [
    "con = sqlite3.connect('test.db')"
   ]
  },
  {
   "cell_type": "markdown",
   "metadata": {},
   "source": [
    "#### Adding data to database "
   ]
  },
  {
   "cell_type": "code",
   "execution_count": 5,
   "metadata": {},
   "outputs": [],
   "source": [
    "df = pd.read_csv(\"data/all_accelerometer_data_pids_13.csv\")\n",
    "df.to_sql(\"accelerometer_data\", con, if_exists = 'replace')"
   ]
  },
  {
   "cell_type": "code",
   "execution_count": 4,
   "metadata": {},
   "outputs": [
    {
     "data": {
      "text/html": [
       "<div>\n",
       "<style scoped>\n",
       "    .dataframe tbody tr th:only-of-type {\n",
       "        vertical-align: middle;\n",
       "    }\n",
       "\n",
       "    .dataframe tbody tr th {\n",
       "        vertical-align: top;\n",
       "    }\n",
       "\n",
       "    .dataframe thead th {\n",
       "        text-align: right;\n",
       "    }\n",
       "</style>\n",
       "<table border=\"1\" class=\"dataframe\">\n",
       "  <thead>\n",
       "    <tr style=\"text-align: right;\">\n",
       "      <th></th>\n",
       "      <th>time</th>\n",
       "      <th>pid</th>\n",
       "      <th>x</th>\n",
       "      <th>y</th>\n",
       "      <th>z</th>\n",
       "    </tr>\n",
       "  </thead>\n",
       "  <tbody>\n",
       "    <tr>\n",
       "      <th>0</th>\n",
       "      <td>0</td>\n",
       "      <td>JB3156</td>\n",
       "      <td>0.0000</td>\n",
       "      <td>0.0000</td>\n",
       "      <td>0.0000</td>\n",
       "    </tr>\n",
       "    <tr>\n",
       "      <th>1</th>\n",
       "      <td>0</td>\n",
       "      <td>CC6740</td>\n",
       "      <td>0.0000</td>\n",
       "      <td>0.0000</td>\n",
       "      <td>0.0000</td>\n",
       "    </tr>\n",
       "    <tr>\n",
       "      <th>2</th>\n",
       "      <td>1493733882409</td>\n",
       "      <td>SA0297</td>\n",
       "      <td>0.0758</td>\n",
       "      <td>0.0273</td>\n",
       "      <td>-0.0102</td>\n",
       "    </tr>\n",
       "    <tr>\n",
       "      <th>3</th>\n",
       "      <td>1493733882455</td>\n",
       "      <td>SA0297</td>\n",
       "      <td>-0.0359</td>\n",
       "      <td>0.0794</td>\n",
       "      <td>0.0037</td>\n",
       "    </tr>\n",
       "    <tr>\n",
       "      <th>4</th>\n",
       "      <td>1493733882500</td>\n",
       "      <td>SA0297</td>\n",
       "      <td>-0.2427</td>\n",
       "      <td>-0.0861</td>\n",
       "      <td>-0.0163</td>\n",
       "    </tr>\n",
       "  </tbody>\n",
       "</table>\n",
       "</div>"
      ],
      "text/plain": [
       "            time     pid       x       y       z\n",
       "0              0  JB3156  0.0000  0.0000  0.0000\n",
       "1              0  CC6740  0.0000  0.0000  0.0000\n",
       "2  1493733882409  SA0297  0.0758  0.0273 -0.0102\n",
       "3  1493733882455  SA0297 -0.0359  0.0794  0.0037\n",
       "4  1493733882500  SA0297 -0.2427 -0.0861 -0.0163"
      ]
     },
     "execution_count": 4,
     "metadata": {},
     "output_type": "execute_result"
    }
   ],
   "source": [
    "df.head()"
   ]
  },
  {
   "cell_type": "code",
   "execution_count": 9,
   "metadata": {},
   "outputs": [
    {
     "data": {
      "text/plain": [
       "(14057567, 5)"
      ]
     },
     "execution_count": 9,
     "metadata": {},
     "output_type": "execute_result"
    }
   ],
   "source": [
    "df.shape"
   ]
  },
  {
   "cell_type": "code",
   "execution_count": 7,
   "metadata": {},
   "outputs": [],
   "source": [
    "tac_files = os.listdir(\"data/clean_tac\")\n"
   ]
  },
  {
   "cell_type": "code",
   "execution_count": 8,
   "metadata": {},
   "outputs": [],
   "source": [
    "for i in range(len(tac_files)):\n",
    "    tac_file = \"data/clean_tac/\" + tac_files[i]\n",
    "    pid = tac_file[15:-14]\n",
    "    tac_df = pd.read_csv(tac_file)\n",
    "    tac_df[\"pid\"] = [pid] * len(tac_df)\n",
    "    tac_df.to_sql(pid, con, if_exists = 'replace')"
   ]
  },
  {
   "cell_type": "code",
   "execution_count": null,
   "metadata": {},
   "outputs": [],
   "source": []
  },
  {
   "cell_type": "code",
   "execution_count": 5,
   "metadata": {},
   "outputs": [
    {
     "data": {
      "text/plain": [
       "(14057567, 5)"
      ]
     },
     "execution_count": 5,
     "metadata": {},
     "output_type": "execute_result"
    }
   ],
   "source": [
    "df.shape"
   ]
  },
  {
   "cell_type": "code",
   "execution_count": 19,
   "metadata": {},
   "outputs": [
    {
     "data": {
      "text/plain": [
       "12907011"
      ]
     },
     "execution_count": 19,
     "metadata": {},
     "output_type": "execute_result"
    }
   ],
   "source": [
    "len(np.unique(df[\"time\"]))"
   ]
  },
  {
   "cell_type": "code",
   "execution_count": 6,
   "metadata": {},
   "outputs": [
    {
     "data": {
      "text/plain": [
       "'/Users/zainkhan/school/MIDS/capstone'"
      ]
     },
     "execution_count": 6,
     "metadata": {},
     "output_type": "execute_result"
    }
   ],
   "source": [
    "os.getcwd()"
   ]
  },
  {
   "cell_type": "code",
   "execution_count": 7,
   "metadata": {},
   "outputs": [
    {
     "data": {
      "text/plain": [
       "['DK3500_clean_TAC.csv',\n",
       " 'JR8022_clean_TAC.csv',\n",
       " 'SA0297_clean_TAC.csv',\n",
       " 'BU4707_clean_TAC.csv',\n",
       " 'HV0618_clean_TAC.csv',\n",
       " 'SF3079_clean_TAC.csv',\n",
       " 'MJ8002_clean_TAC.csv',\n",
       " 'CC6740_clean_TAC.csv',\n",
       " 'PC6771_clean_TAC.csv',\n",
       " 'MC7070_clean_TAC.csv',\n",
       " 'DC6359_clean_TAC.csv',\n",
       " 'BK7610_clean_TAC.csv',\n",
       " 'JB3156_clean_TAC.csv']"
      ]
     },
     "execution_count": 7,
     "metadata": {},
     "output_type": "execute_result"
    }
   ],
   "source": [
    "tac_files"
   ]
  },
  {
   "cell_type": "code",
   "execution_count": 8,
   "metadata": {},
   "outputs": [
    {
     "data": {
      "text/plain": [
       "'DK3500'"
      ]
     },
     "execution_count": 8,
     "metadata": {},
     "output_type": "execute_result"
    }
   ],
   "source": [
    "tac_files[0][:-14]\n"
   ]
  },
  {
   "cell_type": "code",
   "execution_count": 9,
   "metadata": {},
   "outputs": [],
   "source": [
    "unique_pids = np.unique(df[\"pid\"])"
   ]
  },
  {
   "cell_type": "code",
   "execution_count": 10,
   "metadata": {},
   "outputs": [
    {
     "data": {
      "text/plain": [
       "True"
      ]
     },
     "execution_count": 10,
     "metadata": {},
     "output_type": "execute_result"
    }
   ],
   "source": [
    "len(unique_pids) == len(tac_files)"
   ]
  },
  {
   "cell_type": "code",
   "execution_count": 12,
   "metadata": {},
   "outputs": [
    {
     "data": {
      "text/html": [
       "<div>\n",
       "<style scoped>\n",
       "    .dataframe tbody tr th:only-of-type {\n",
       "        vertical-align: middle;\n",
       "    }\n",
       "\n",
       "    .dataframe tbody tr th {\n",
       "        vertical-align: top;\n",
       "    }\n",
       "\n",
       "    .dataframe thead th {\n",
       "        text-align: right;\n",
       "    }\n",
       "</style>\n",
       "<table border=\"1\" class=\"dataframe\">\n",
       "  <thead>\n",
       "    <tr style=\"text-align: right;\">\n",
       "      <th></th>\n",
       "      <th>timestamp</th>\n",
       "      <th>TAC_Reading</th>\n",
       "      <th>pid</th>\n",
       "    </tr>\n",
       "  </thead>\n",
       "  <tbody>\n",
       "    <tr>\n",
       "      <th>0</th>\n",
       "      <td>1493722816</td>\n",
       "      <td>0.002387</td>\n",
       "      <td>JB3156</td>\n",
       "    </tr>\n",
       "    <tr>\n",
       "      <th>1</th>\n",
       "      <td>1493724639</td>\n",
       "      <td>0.000271</td>\n",
       "      <td>JB3156</td>\n",
       "    </tr>\n",
       "    <tr>\n",
       "      <th>2</th>\n",
       "      <td>1493724954</td>\n",
       "      <td>-0.000839</td>\n",
       "      <td>JB3156</td>\n",
       "    </tr>\n",
       "    <tr>\n",
       "      <th>3</th>\n",
       "      <td>1493725268</td>\n",
       "      <td>-0.000651</td>\n",
       "      <td>JB3156</td>\n",
       "    </tr>\n",
       "    <tr>\n",
       "      <th>4</th>\n",
       "      <td>1493725583</td>\n",
       "      <td>0.000234</td>\n",
       "      <td>JB3156</td>\n",
       "    </tr>\n",
       "  </tbody>\n",
       "</table>\n",
       "</div>"
      ],
      "text/plain": [
       "    timestamp  TAC_Reading     pid\n",
       "0  1493722816     0.002387  JB3156\n",
       "1  1493724639     0.000271  JB3156\n",
       "2  1493724954    -0.000839  JB3156\n",
       "3  1493725268    -0.000651  JB3156\n",
       "4  1493725583     0.000234  JB3156"
      ]
     },
     "execution_count": 12,
     "metadata": {},
     "output_type": "execute_result"
    }
   ],
   "source": [
    "output_df = df\n",
    "for i in range(len(tac_files)):\n",
    "    tac_file = \"data/clean_tac/\" + tac_files[i]\n",
    "    pid = tac_file[15:-14]\n",
    "    tac_df = pd.read_csv(tac_file)\n",
    "    tac_df[\"pid\"] = [pid] * len(tac_df)\n",
    "    \n",
    "    \n",
    "tac_df.head()"
   ]
  },
  {
   "cell_type": "code",
   "execution_count": 17,
   "metadata": {},
   "outputs": [
    {
     "data": {
      "text/plain": [
       "array([1493722816, 1493724639, 1493724954, 1493725268, 1493725583,\n",
       "       1493725897, 1493726211, 1493726526, 1493726840, 1493727172,\n",
       "       1493727505, 1493727836, 1493729671, 1493731487, 1493733302,\n",
       "       1493735134, 1493736962, 1493738778, 1493740607, 1493742450,\n",
       "       1493744293, 1493746135, 1493747979, 1493749820, 1493751662,\n",
       "       1493753505, 1493755349, 1493757193, 1493759037, 1493760881,\n",
       "       1493762725, 1493764568, 1493766412, 1493768256, 1493770085,\n",
       "       1493771927, 1493773769, 1493775611, 1493777453, 1493779295,\n",
       "       1493781136, 1493782978, 1493784820, 1493786662, 1493788508,\n",
       "       1493790336, 1493792165, 1493793993, 1493795822, 1493797651,\n",
       "       1493799481, 1493801311, 1493803140, 1493804971, 1493806801])"
      ]
     },
     "execution_count": 17,
     "metadata": {},
     "output_type": "execute_result"
    }
   ],
   "source": [
    "np.unique(tac_df[\"timestamp\"])"
   ]
  },
  {
   "cell_type": "code",
   "execution_count": 12,
   "metadata": {},
   "outputs": [
    {
     "data": {
      "text/plain": [
       "Index(['time', 'pid', 'x', 'y', 'z'], dtype='object')"
      ]
     },
     "execution_count": 12,
     "metadata": {},
     "output_type": "execute_result"
    }
   ],
   "source": [
    "df.columns"
   ]
  },
  {
   "cell_type": "code",
   "execution_count": 13,
   "metadata": {},
   "outputs": [
    {
     "data": {
      "text/plain": [
       "Index(['timestamp', 'TAC_Reading', 'pid'], dtype='object')"
      ]
     },
     "execution_count": 13,
     "metadata": {},
     "output_type": "execute_result"
    }
   ],
   "source": [
    "tac_df.columns"
   ]
  },
  {
   "cell_type": "code",
   "execution_count": 13,
   "metadata": {},
   "outputs": [],
   "source": [
    "test_output = output_df.merge( tac_df, how = \"left\", left_on = [\"pid\", \"time\"], right_on = [\"pid\", \"timestamp\"])\n",
    "#output_df.merge( tac_df, how = \"left\", on = \"pid\", left_index = True)"
   ]
  },
  {
   "cell_type": "code",
   "execution_count": 16,
   "metadata": {},
   "outputs": [
    {
     "data": {
      "text/html": [
       "<div>\n",
       "<style scoped>\n",
       "    .dataframe tbody tr th:only-of-type {\n",
       "        vertical-align: middle;\n",
       "    }\n",
       "\n",
       "    .dataframe tbody tr th {\n",
       "        vertical-align: top;\n",
       "    }\n",
       "\n",
       "    .dataframe thead th {\n",
       "        text-align: right;\n",
       "    }\n",
       "</style>\n",
       "<table border=\"1\" class=\"dataframe\">\n",
       "  <thead>\n",
       "    <tr style=\"text-align: right;\">\n",
       "      <th></th>\n",
       "      <th>time</th>\n",
       "      <th>pid</th>\n",
       "      <th>x</th>\n",
       "      <th>y</th>\n",
       "      <th>z</th>\n",
       "      <th>timestamp</th>\n",
       "      <th>TAC_Reading</th>\n",
       "    </tr>\n",
       "  </thead>\n",
       "  <tbody>\n",
       "  </tbody>\n",
       "</table>\n",
       "</div>"
      ],
      "text/plain": [
       "Empty DataFrame\n",
       "Columns: [time, pid, x, y, z, timestamp, TAC_Reading]\n",
       "Index: []"
      ]
     },
     "execution_count": 16,
     "metadata": {},
     "output_type": "execute_result"
    }
   ],
   "source": [
    "test_output1 = output_df.merge( tac_df, how = \"inner\", left_on = [\"pid\", \"time\"], right_on = [\"pid\", \"timestamp\"])\n",
    "test_output1"
   ]
  },
  {
   "cell_type": "code",
   "execution_count": 23,
   "metadata": {},
   "outputs": [
    {
     "data": {
      "text/html": [
       "<div>\n",
       "<style scoped>\n",
       "    .dataframe tbody tr th:only-of-type {\n",
       "        vertical-align: middle;\n",
       "    }\n",
       "\n",
       "    .dataframe tbody tr th {\n",
       "        vertical-align: top;\n",
       "    }\n",
       "\n",
       "    .dataframe thead th {\n",
       "        text-align: right;\n",
       "    }\n",
       "</style>\n",
       "<table border=\"1\" class=\"dataframe\">\n",
       "  <thead>\n",
       "    <tr style=\"text-align: right;\">\n",
       "      <th></th>\n",
       "      <th>time</th>\n",
       "      <th>pid</th>\n",
       "      <th>x</th>\n",
       "      <th>y</th>\n",
       "      <th>z</th>\n",
       "      <th>timestamp</th>\n",
       "      <th>TAC_Reading</th>\n",
       "    </tr>\n",
       "  </thead>\n",
       "  <tbody>\n",
       "    <tr>\n",
       "      <th>0</th>\n",
       "      <td>0</td>\n",
       "      <td>JB3156</td>\n",
       "      <td>0.000000</td>\n",
       "      <td>0.000000</td>\n",
       "      <td>0.000000</td>\n",
       "      <td>NaN</td>\n",
       "      <td>NaN</td>\n",
       "    </tr>\n",
       "    <tr>\n",
       "      <th>1</th>\n",
       "      <td>0</td>\n",
       "      <td>CC6740</td>\n",
       "      <td>0.000000</td>\n",
       "      <td>0.000000</td>\n",
       "      <td>0.000000</td>\n",
       "      <td>NaN</td>\n",
       "      <td>NaN</td>\n",
       "    </tr>\n",
       "    <tr>\n",
       "      <th>2</th>\n",
       "      <td>1493733882409</td>\n",
       "      <td>SA0297</td>\n",
       "      <td>0.075800</td>\n",
       "      <td>0.027300</td>\n",
       "      <td>-0.010200</td>\n",
       "      <td>NaN</td>\n",
       "      <td>NaN</td>\n",
       "    </tr>\n",
       "    <tr>\n",
       "      <th>3</th>\n",
       "      <td>1493733882455</td>\n",
       "      <td>SA0297</td>\n",
       "      <td>-0.035900</td>\n",
       "      <td>0.079400</td>\n",
       "      <td>0.003700</td>\n",
       "      <td>NaN</td>\n",
       "      <td>NaN</td>\n",
       "    </tr>\n",
       "    <tr>\n",
       "      <th>4</th>\n",
       "      <td>1493733882500</td>\n",
       "      <td>SA0297</td>\n",
       "      <td>-0.242700</td>\n",
       "      <td>-0.086100</td>\n",
       "      <td>-0.016300</td>\n",
       "      <td>NaN</td>\n",
       "      <td>NaN</td>\n",
       "    </tr>\n",
       "    <tr>\n",
       "      <th>...</th>\n",
       "      <td>...</td>\n",
       "      <td>...</td>\n",
       "      <td>...</td>\n",
       "      <td>...</td>\n",
       "      <td>...</td>\n",
       "      <td>...</td>\n",
       "      <td>...</td>\n",
       "    </tr>\n",
       "    <tr>\n",
       "      <th>14057562</th>\n",
       "      <td>1493829248196</td>\n",
       "      <td>CC6740</td>\n",
       "      <td>-0.133956</td>\n",
       "      <td>0.124726</td>\n",
       "      <td>-0.010736</td>\n",
       "      <td>NaN</td>\n",
       "      <td>NaN</td>\n",
       "    </tr>\n",
       "    <tr>\n",
       "      <th>14057563</th>\n",
       "      <td>1493829248220</td>\n",
       "      <td>CC6740</td>\n",
       "      <td>-0.100764</td>\n",
       "      <td>0.180872</td>\n",
       "      <td>0.046449</td>\n",
       "      <td>NaN</td>\n",
       "      <td>NaN</td>\n",
       "    </tr>\n",
       "    <tr>\n",
       "      <th>14057564</th>\n",
       "      <td>1493829248245</td>\n",
       "      <td>CC6740</td>\n",
       "      <td>-0.131853</td>\n",
       "      <td>0.195934</td>\n",
       "      <td>0.181088</td>\n",
       "      <td>NaN</td>\n",
       "      <td>NaN</td>\n",
       "    </tr>\n",
       "    <tr>\n",
       "      <th>14057565</th>\n",
       "      <td>1493829248270</td>\n",
       "      <td>CC6740</td>\n",
       "      <td>-0.149704</td>\n",
       "      <td>0.194482</td>\n",
       "      <td>0.202393</td>\n",
       "      <td>NaN</td>\n",
       "      <td>NaN</td>\n",
       "    </tr>\n",
       "    <tr>\n",
       "      <th>14057566</th>\n",
       "      <td>1493829248294</td>\n",
       "      <td>CC6740</td>\n",
       "      <td>-0.107288</td>\n",
       "      <td>0.153548</td>\n",
       "      <td>0.168595</td>\n",
       "      <td>NaN</td>\n",
       "      <td>NaN</td>\n",
       "    </tr>\n",
       "  </tbody>\n",
       "</table>\n",
       "<p>14057567 rows × 7 columns</p>\n",
       "</div>"
      ],
      "text/plain": [
       "                   time     pid         x         y         z  timestamp  \\\n",
       "0                     0  JB3156  0.000000  0.000000  0.000000        NaN   \n",
       "1                     0  CC6740  0.000000  0.000000  0.000000        NaN   \n",
       "2         1493733882409  SA0297  0.075800  0.027300 -0.010200        NaN   \n",
       "3         1493733882455  SA0297 -0.035900  0.079400  0.003700        NaN   \n",
       "4         1493733882500  SA0297 -0.242700 -0.086100 -0.016300        NaN   \n",
       "...                 ...     ...       ...       ...       ...        ...   \n",
       "14057562  1493829248196  CC6740 -0.133956  0.124726 -0.010736        NaN   \n",
       "14057563  1493829248220  CC6740 -0.100764  0.180872  0.046449        NaN   \n",
       "14057564  1493829248245  CC6740 -0.131853  0.195934  0.181088        NaN   \n",
       "14057565  1493829248270  CC6740 -0.149704  0.194482  0.202393        NaN   \n",
       "14057566  1493829248294  CC6740 -0.107288  0.153548  0.168595        NaN   \n",
       "\n",
       "          TAC_Reading  \n",
       "0                 NaN  \n",
       "1                 NaN  \n",
       "2                 NaN  \n",
       "3                 NaN  \n",
       "4                 NaN  \n",
       "...               ...  \n",
       "14057562          NaN  \n",
       "14057563          NaN  \n",
       "14057564          NaN  \n",
       "14057565          NaN  \n",
       "14057566          NaN  \n",
       "\n",
       "[14057567 rows x 7 columns]"
      ]
     },
     "execution_count": 23,
     "metadata": {},
     "output_type": "execute_result"
    }
   ],
   "source": [
    "test_output"
   ]
  },
  {
   "cell_type": "code",
   "execution_count": 14,
   "metadata": {},
   "outputs": [
    {
     "data": {
      "text/html": [
       "<div>\n",
       "<style scoped>\n",
       "    .dataframe tbody tr th:only-of-type {\n",
       "        vertical-align: middle;\n",
       "    }\n",
       "\n",
       "    .dataframe tbody tr th {\n",
       "        vertical-align: top;\n",
       "    }\n",
       "\n",
       "    .dataframe thead th {\n",
       "        text-align: right;\n",
       "    }\n",
       "</style>\n",
       "<table border=\"1\" class=\"dataframe\">\n",
       "  <thead>\n",
       "    <tr style=\"text-align: right;\">\n",
       "      <th></th>\n",
       "      <th>time</th>\n",
       "      <th>pid</th>\n",
       "      <th>x</th>\n",
       "      <th>y</th>\n",
       "      <th>z</th>\n",
       "      <th>timestamp</th>\n",
       "      <th>TAC_Reading</th>\n",
       "    </tr>\n",
       "  </thead>\n",
       "  <tbody>\n",
       "    <tr>\n",
       "      <th>0</th>\n",
       "      <td>0</td>\n",
       "      <td>JB3156</td>\n",
       "      <td>0.000000</td>\n",
       "      <td>0.000000</td>\n",
       "      <td>0.000000</td>\n",
       "      <td>NaN</td>\n",
       "      <td>NaN</td>\n",
       "    </tr>\n",
       "    <tr>\n",
       "      <th>541149</th>\n",
       "      <td>1493739732016</td>\n",
       "      <td>JB3156</td>\n",
       "      <td>-2.556815</td>\n",
       "      <td>8.312009</td>\n",
       "      <td>14.090558</td>\n",
       "      <td>NaN</td>\n",
       "      <td>NaN</td>\n",
       "    </tr>\n",
       "    <tr>\n",
       "      <th>541154</th>\n",
       "      <td>1493739732035</td>\n",
       "      <td>JB3156</td>\n",
       "      <td>-2.499538</td>\n",
       "      <td>8.636412</td>\n",
       "      <td>13.906186</td>\n",
       "      <td>NaN</td>\n",
       "      <td>NaN</td>\n",
       "    </tr>\n",
       "    <tr>\n",
       "      <th>541159</th>\n",
       "      <td>1493739732055</td>\n",
       "      <td>JB3156</td>\n",
       "      <td>-2.471458</td>\n",
       "      <td>8.687223</td>\n",
       "      <td>13.677473</td>\n",
       "      <td>NaN</td>\n",
       "      <td>NaN</td>\n",
       "    </tr>\n",
       "    <tr>\n",
       "      <th>541163</th>\n",
       "      <td>1493739732075</td>\n",
       "      <td>JB3156</td>\n",
       "      <td>-2.244561</td>\n",
       "      <td>8.832140</td>\n",
       "      <td>13.288850</td>\n",
       "      <td>NaN</td>\n",
       "      <td>NaN</td>\n",
       "    </tr>\n",
       "    <tr>\n",
       "      <th>...</th>\n",
       "      <td>...</td>\n",
       "      <td>...</td>\n",
       "      <td>...</td>\n",
       "      <td>...</td>\n",
       "      <td>...</td>\n",
       "      <td>...</td>\n",
       "      <td>...</td>\n",
       "    </tr>\n",
       "    <tr>\n",
       "      <th>7792214</th>\n",
       "      <td>1493784075428</td>\n",
       "      <td>JB3156</td>\n",
       "      <td>-0.224899</td>\n",
       "      <td>-0.009760</td>\n",
       "      <td>-0.068496</td>\n",
       "      <td>NaN</td>\n",
       "      <td>NaN</td>\n",
       "    </tr>\n",
       "    <tr>\n",
       "      <th>7792219</th>\n",
       "      <td>1493784075448</td>\n",
       "      <td>JB3156</td>\n",
       "      <td>-0.148706</td>\n",
       "      <td>-0.015424</td>\n",
       "      <td>0.107965</td>\n",
       "      <td>NaN</td>\n",
       "      <td>NaN</td>\n",
       "    </tr>\n",
       "    <tr>\n",
       "      <th>7792224</th>\n",
       "      <td>1493784075468</td>\n",
       "      <td>JB3156</td>\n",
       "      <td>-0.077544</td>\n",
       "      <td>-0.057442</td>\n",
       "      <td>-0.079593</td>\n",
       "      <td>NaN</td>\n",
       "      <td>NaN</td>\n",
       "    </tr>\n",
       "    <tr>\n",
       "      <th>7792227</th>\n",
       "      <td>1493784075488</td>\n",
       "      <td>JB3156</td>\n",
       "      <td>-0.036513</td>\n",
       "      <td>-0.059515</td>\n",
       "      <td>-0.106539</td>\n",
       "      <td>NaN</td>\n",
       "      <td>NaN</td>\n",
       "    </tr>\n",
       "    <tr>\n",
       "      <th>7792231</th>\n",
       "      <td>1493784075509</td>\n",
       "      <td>JB3156</td>\n",
       "      <td>-0.301496</td>\n",
       "      <td>-0.128987</td>\n",
       "      <td>-0.262350</td>\n",
       "      <td>NaN</td>\n",
       "      <td>NaN</td>\n",
       "    </tr>\n",
       "  </tbody>\n",
       "</table>\n",
       "<p>1177749 rows × 7 columns</p>\n",
       "</div>"
      ],
      "text/plain": [
       "                  time     pid         x         y          z  timestamp  \\\n",
       "0                    0  JB3156  0.000000  0.000000   0.000000        NaN   \n",
       "541149   1493739732016  JB3156 -2.556815  8.312009  14.090558        NaN   \n",
       "541154   1493739732035  JB3156 -2.499538  8.636412  13.906186        NaN   \n",
       "541159   1493739732055  JB3156 -2.471458  8.687223  13.677473        NaN   \n",
       "541163   1493739732075  JB3156 -2.244561  8.832140  13.288850        NaN   \n",
       "...                ...     ...       ...       ...        ...        ...   \n",
       "7792214  1493784075428  JB3156 -0.224899 -0.009760  -0.068496        NaN   \n",
       "7792219  1493784075448  JB3156 -0.148706 -0.015424   0.107965        NaN   \n",
       "7792224  1493784075468  JB3156 -0.077544 -0.057442  -0.079593        NaN   \n",
       "7792227  1493784075488  JB3156 -0.036513 -0.059515  -0.106539        NaN   \n",
       "7792231  1493784075509  JB3156 -0.301496 -0.128987  -0.262350        NaN   \n",
       "\n",
       "         TAC_Reading  \n",
       "0                NaN  \n",
       "541149           NaN  \n",
       "541154           NaN  \n",
       "541159           NaN  \n",
       "541163           NaN  \n",
       "...              ...  \n",
       "7792214          NaN  \n",
       "7792219          NaN  \n",
       "7792224          NaN  \n",
       "7792227          NaN  \n",
       "7792231          NaN  \n",
       "\n",
       "[1177749 rows x 7 columns]"
      ]
     },
     "execution_count": 14,
     "metadata": {},
     "output_type": "execute_result"
    }
   ],
   "source": [
    "test_output[test_output[\"pid\"] == \"JB3156\"]"
   ]
  },
  {
   "cell_type": "code",
   "execution_count": 15,
   "metadata": {},
   "outputs": [
    {
     "data": {
      "text/html": [
       "<div>\n",
       "<style scoped>\n",
       "    .dataframe tbody tr th:only-of-type {\n",
       "        vertical-align: middle;\n",
       "    }\n",
       "\n",
       "    .dataframe tbody tr th {\n",
       "        vertical-align: top;\n",
       "    }\n",
       "\n",
       "    .dataframe thead th {\n",
       "        text-align: right;\n",
       "    }\n",
       "</style>\n",
       "<table border=\"1\" class=\"dataframe\">\n",
       "  <thead>\n",
       "    <tr style=\"text-align: right;\">\n",
       "      <th></th>\n",
       "      <th>time</th>\n",
       "      <th>pid</th>\n",
       "      <th>x</th>\n",
       "      <th>y</th>\n",
       "      <th>z</th>\n",
       "      <th>timestamp</th>\n",
       "      <th>TAC_Reading</th>\n",
       "    </tr>\n",
       "  </thead>\n",
       "  <tbody>\n",
       "    <tr>\n",
       "      <th>0.0</th>\n",
       "      <td>0</td>\n",
       "      <td>JB3156</td>\n",
       "      <td>0.000000</td>\n",
       "      <td>0.000000</td>\n",
       "      <td>0.000000</td>\n",
       "      <td>1.493723e+09</td>\n",
       "      <td>0.002387</td>\n",
       "    </tr>\n",
       "    <tr>\n",
       "      <th>1.0</th>\n",
       "      <td>0</td>\n",
       "      <td>JB3156</td>\n",
       "      <td>0.000000</td>\n",
       "      <td>0.000000</td>\n",
       "      <td>0.000000</td>\n",
       "      <td>1.493725e+09</td>\n",
       "      <td>0.000271</td>\n",
       "    </tr>\n",
       "    <tr>\n",
       "      <th>2.0</th>\n",
       "      <td>0</td>\n",
       "      <td>JB3156</td>\n",
       "      <td>0.000000</td>\n",
       "      <td>0.000000</td>\n",
       "      <td>0.000000</td>\n",
       "      <td>1.493725e+09</td>\n",
       "      <td>-0.000839</td>\n",
       "    </tr>\n",
       "    <tr>\n",
       "      <th>3.0</th>\n",
       "      <td>0</td>\n",
       "      <td>JB3156</td>\n",
       "      <td>0.000000</td>\n",
       "      <td>0.000000</td>\n",
       "      <td>0.000000</td>\n",
       "      <td>1.493725e+09</td>\n",
       "      <td>-0.000651</td>\n",
       "    </tr>\n",
       "    <tr>\n",
       "      <th>4.0</th>\n",
       "      <td>0</td>\n",
       "      <td>JB3156</td>\n",
       "      <td>0.000000</td>\n",
       "      <td>0.000000</td>\n",
       "      <td>0.000000</td>\n",
       "      <td>1.493726e+09</td>\n",
       "      <td>0.000234</td>\n",
       "    </tr>\n",
       "    <tr>\n",
       "      <th>...</th>\n",
       "      <td>...</td>\n",
       "      <td>...</td>\n",
       "      <td>...</td>\n",
       "      <td>...</td>\n",
       "      <td>...</td>\n",
       "      <td>...</td>\n",
       "      <td>...</td>\n",
       "    </tr>\n",
       "    <tr>\n",
       "      <th>NaN</th>\n",
       "      <td>1493829248196</td>\n",
       "      <td>CC6740</td>\n",
       "      <td>-0.133956</td>\n",
       "      <td>0.124726</td>\n",
       "      <td>-0.010736</td>\n",
       "      <td>NaN</td>\n",
       "      <td>NaN</td>\n",
       "    </tr>\n",
       "    <tr>\n",
       "      <th>NaN</th>\n",
       "      <td>1493829248220</td>\n",
       "      <td>CC6740</td>\n",
       "      <td>-0.100764</td>\n",
       "      <td>0.180872</td>\n",
       "      <td>0.046449</td>\n",
       "      <td>NaN</td>\n",
       "      <td>NaN</td>\n",
       "    </tr>\n",
       "    <tr>\n",
       "      <th>NaN</th>\n",
       "      <td>1493829248245</td>\n",
       "      <td>CC6740</td>\n",
       "      <td>-0.131853</td>\n",
       "      <td>0.195934</td>\n",
       "      <td>0.181088</td>\n",
       "      <td>NaN</td>\n",
       "      <td>NaN</td>\n",
       "    </tr>\n",
       "    <tr>\n",
       "      <th>NaN</th>\n",
       "      <td>1493829248270</td>\n",
       "      <td>CC6740</td>\n",
       "      <td>-0.149704</td>\n",
       "      <td>0.194482</td>\n",
       "      <td>0.202393</td>\n",
       "      <td>NaN</td>\n",
       "      <td>NaN</td>\n",
       "    </tr>\n",
       "    <tr>\n",
       "      <th>NaN</th>\n",
       "      <td>1493829248294</td>\n",
       "      <td>CC6740</td>\n",
       "      <td>-0.107288</td>\n",
       "      <td>0.153548</td>\n",
       "      <td>0.168595</td>\n",
       "      <td>NaN</td>\n",
       "      <td>NaN</td>\n",
       "    </tr>\n",
       "  </tbody>\n",
       "</table>\n",
       "<p>77656013 rows × 7 columns</p>\n",
       "</div>"
      ],
      "text/plain": [
       "              time     pid         x         y         z     timestamp  \\\n",
       "0.0              0  JB3156  0.000000  0.000000  0.000000  1.493723e+09   \n",
       "1.0              0  JB3156  0.000000  0.000000  0.000000  1.493725e+09   \n",
       "2.0              0  JB3156  0.000000  0.000000  0.000000  1.493725e+09   \n",
       "3.0              0  JB3156  0.000000  0.000000  0.000000  1.493725e+09   \n",
       "4.0              0  JB3156  0.000000  0.000000  0.000000  1.493726e+09   \n",
       "..             ...     ...       ...       ...       ...           ...   \n",
       "NaN  1493829248196  CC6740 -0.133956  0.124726 -0.010736           NaN   \n",
       "NaN  1493829248220  CC6740 -0.100764  0.180872  0.046449           NaN   \n",
       "NaN  1493829248245  CC6740 -0.131853  0.195934  0.181088           NaN   \n",
       "NaN  1493829248270  CC6740 -0.149704  0.194482  0.202393           NaN   \n",
       "NaN  1493829248294  CC6740 -0.107288  0.153548  0.168595           NaN   \n",
       "\n",
       "     TAC_Reading  \n",
       "0.0     0.002387  \n",
       "1.0     0.000271  \n",
       "2.0    -0.000839  \n",
       "3.0    -0.000651  \n",
       "4.0     0.000234  \n",
       "..           ...  \n",
       "NaN          NaN  \n",
       "NaN          NaN  \n",
       "NaN          NaN  \n",
       "NaN          NaN  \n",
       "NaN          NaN  \n",
       "\n",
       "[77656013 rows x 7 columns]"
      ]
     },
     "execution_count": 15,
     "metadata": {},
     "output_type": "execute_result"
    }
   ],
   "source": [
    "output_df.merge( tac_df, how = \"left\", on = \"pid\", left_index = True)"
   ]
  },
  {
   "cell_type": "code",
   "execution_count": 53,
   "metadata": {},
   "outputs": [
    {
     "data": {
      "text/plain": [
       "(14057567, 5)"
      ]
     },
     "execution_count": 53,
     "metadata": {},
     "output_type": "execute_result"
    }
   ],
   "source": [
    "output_df.shape"
   ]
  },
  {
   "cell_type": "code",
   "execution_count": 34,
   "metadata": {},
   "outputs": [
    {
     "data": {
      "text/plain": [
       "13"
      ]
     },
     "execution_count": 34,
     "metadata": {},
     "output_type": "execute_result"
    }
   ],
   "source": []
  },
  {
   "cell_type": "code",
   "execution_count": 35,
   "metadata": {},
   "outputs": [
    {
     "data": {
      "text/plain": [
       "13"
      ]
     },
     "execution_count": 35,
     "metadata": {},
     "output_type": "execute_result"
    }
   ],
   "source": []
  },
  {
   "cell_type": "code",
   "execution_count": null,
   "metadata": {},
   "outputs": [],
   "source": []
  }
 ],
 "metadata": {
  "kernelspec": {
   "display_name": "Python 3",
   "language": "python",
   "name": "python3"
  },
  "language_info": {
   "codemirror_mode": {
    "name": "ipython",
    "version": 3
   },
   "file_extension": ".py",
   "mimetype": "text/x-python",
   "name": "python",
   "nbconvert_exporter": "python",
   "pygments_lexer": "ipython3",
   "version": "3.6.4"
  }
 },
 "nbformat": 4,
 "nbformat_minor": 2
}
